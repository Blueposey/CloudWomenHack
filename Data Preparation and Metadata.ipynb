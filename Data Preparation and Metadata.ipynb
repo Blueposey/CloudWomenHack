{
 "cells": [
  {
   "cell_type": "markdown",
   "id": "02e5c156",
   "metadata": {},
   "source": [
    "# Data Preparation and Merging \n",
    "\n",
    "Creating a comprehensive dataset for use in ML\n"
   ]
  },
  {
   "cell_type": "markdown",
   "id": "7d43a9a9",
   "metadata": {},
   "source": [
    "Prepared by: Becky L, last updated: 10/27/24"
   ]
  },
  {
   "cell_type": "markdown",
   "id": "8224f89b",
   "metadata": {},
   "source": [
    "## Data Sources:\n",
    "\n",
    "1. EPA - Excess Food Opportunities Map.  Restaurants, retailers (grocery), and foodbank locations (rolled up to State level) were used. https://experience.arcgis.com/experience/793a7912cb184f7792fc02a9bac4192b\n",
    "\n",
    "2. ReFED: summary and detail csv files for US and States on food surplus.\n",
    "https://insights-engine.refed.org/food-waste-monitor?view=overview&year=2022\n",
    "\n",
    "3. Census: population estimates by State \n",
    "https://www.census.gov/data/tables/time-series/demo/popest/2020s-state-total.html\n",
    "\n",
    "4. USDA: prevalence of food insecurity average 2021-2023 by state https://www.ers.usda.gov/topics/food-nutrition-assistance/food-security-in-the-u-s/key-statistics-graphics/\n",
    "\n"
   ]
  },
  {
   "attachments": {},
   "cell_type": "markdown",
   "id": "ce8f31e0",
   "metadata": {},
   "source": [
    "## Dataset Design:\n",
    "\n",
    "From EPA data\n",
    "* State = US State (note: DC has limited data)\n",
    "* Excess_Food_Low_Tons = estimated excess food from grocery and restaurants combined (low estimate)\n",
    "* Excess_Food_High_Tons = estimated excess food from grocery and restaurants combined (high estimate)\n",
    "\n",
    "From ReFED data (limited to restaurant and grocery source only) by state\n",
    "* Tons_Beverages_Don = donated tons of beverages (ready-to-drink) in tons\n",
    "* Tons_Bread_Don = donated bread/bakery in tons\n",
    "* Tons_Dairy_Eggs_Don = donated dairy/eggs in tons\n",
    "* Tons_Dry_Don\t= donated dry goods in tons\n",
    "* Tons_Frozen_Don = donated frozen foods in tons\n",
    "* Tons_Meat_Don = donated meat (incl seafood) in tons\n",
    "* Tons_Prepared_Don = donated prepared food in tons\n",
    "* Tons_Produce_Don = donated produce in tons\n",
    "\n",
    "From USDA data\n",
    "* households_avg_21_23 = number of households averaged across 2021-2023\n",
    "* food_insecurity_percent = % food insecure in that state\n",
    "* very_low_food_security_percent = % very food insecure in that state\n",
    "\n",
    "From Census data (estimated for July 1 of each year by state)\n",
    "* pop2020 = population estimate for 2020\n",
    "* pop2021 = pop estimate for 2021\n",
    "* pop2022 = pop estimate for 2022\n",
    "* pop2023 = pop estimate for 2023\n",
    "\n",
    "From EPA data (above) for food banks\n",
    "\n",
    "* FoodBank_recd_TonYear\t= donations recieved at a foodbank in tons (totalled for each state)\n",
    "* foodbanks = number of food banks per state"
   ]
  },
  {
   "cell_type": "code",
   "execution_count": null,
   "id": "d6cf8e7b",
   "metadata": {},
   "outputs": [],
   "source": []
  }
 ],
 "metadata": {
  "kernelspec": {
   "display_name": "Python 3 (ipykernel)",
   "language": "python",
   "name": "python3"
  },
  "language_info": {
   "codemirror_mode": {
    "name": "ipython",
    "version": 3
   },
   "file_extension": ".py",
   "mimetype": "text/x-python",
   "name": "python",
   "nbconvert_exporter": "python",
   "pygments_lexer": "ipython3",
   "version": "3.11.1"
  },
  "toc": {
   "base_numbering": 1,
   "nav_menu": {},
   "number_sections": true,
   "sideBar": true,
   "skip_h1_title": false,
   "title_cell": "Table of Contents",
   "title_sidebar": "Contents",
   "toc_cell": false,
   "toc_position": {},
   "toc_section_display": true,
   "toc_window_display": false
  }
 },
 "nbformat": 4,
 "nbformat_minor": 5
}
